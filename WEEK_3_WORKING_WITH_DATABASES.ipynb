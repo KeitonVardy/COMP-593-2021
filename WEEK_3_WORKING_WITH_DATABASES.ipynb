{
  "nbformat": 4,
  "nbformat_minor": 0,
  "metadata": {
    "colab": {
      "name": "WEEK 3 WORKING WITH DATABASES",
      "provenance": [],
      "include_colab_link": true
    },
    "kernelspec": {
      "display_name": "Python 3",
      "name": "python3"
    }
  },
  "cells": [
    {
      "cell_type": "markdown",
      "metadata": {
        "id": "view-in-github",
        "colab_type": "text"
      },
      "source": [
        "<a href=\"https://colab.research.google.com/github/KeitonVardy/COMP-593-2021/blob/week%2Fthree-databases/WEEK_3_WORKING_WITH_DATABASES.ipynb\" target=\"_parent\"><img src=\"https://colab.research.google.com/assets/colab-badge.svg\" alt=\"Open In Colab\"/></a>"
      ]
    },
    {
      "cell_type": "markdown",
      "metadata": {
        "id": "ATrLBWinTKCJ"
      },
      "source": [
        "# LAB 3: WORKING WITH DATABASES\n"
      ]
    },
    {
      "cell_type": "markdown",
      "metadata": {
        "id": "bH4FqkVLTWRU"
      },
      "source": [
        "## Introduction\n",
        "\n",
        "During this lab, we will experiment with using a few different libararies and modules to connect to and interact with an SQLite database. After creating and configuring our testing database, we will populate it with Fake data and run some queries to see what kind of information we can retreive. For context, we will be creating RSSN, the \"Really Simple Social Network\"."
      ]
    },
    {
      "cell_type": "markdown",
      "metadata": {
        "id": "YtugCh8QUPoi"
      },
      "source": [
        "## Creating a SQLite Database\n",
        "\n",
        "We will be utilizing the `sqlite3` library to create our database file, as it offers the convienience of creating our database file automatically in the event that it cannot find an existing file at the path specified.\n",
        "\n",
        "**Before you run the below code:**\n",
        "On the left of the notebook, select the file folder icon. Then, after you run the code block, you should be able to observe the creation of the database file. If it doesn't appear, try clicking the \"Refresh\" button above the list of folders."
      ]
    },
    {
      "cell_type": "code",
      "metadata": {
        "id": "pzyTkI5PPjib",
        "outputId": "88f359a6-1e7d-4a05-ceb4-5a16286039c0",
        "colab": {
          "base_uri": "https://localhost:8080/"
        }
      },
      "source": [
        "import sqlite3\n",
        "\n",
        "#When we retreive a Connection object, a new database will be created for us if it doesn't already exist. \n",
        "myConnection = sqlite3.connect('social_network.db')\n",
        "print(sqlite3.version)"
      ],
      "execution_count": 58,
      "outputs": [
        {
          "output_type": "stream",
          "name": "stdout",
          "text": [
            "2.6.0\n"
          ]
        }
      ]
    },
    {
      "cell_type": "markdown",
      "metadata": {
        "id": "gRxXXt8iVmAp"
      },
      "source": [
        "## Creating a Table\n"
      ]
    },
    {
      "cell_type": "markdown",
      "metadata": {
        "id": "plmEQRdNaDMe"
      },
      "source": [
        "We'll use the below code to create a table called `people` within our database. "
      ]
    },
    {
      "cell_type": "code",
      "metadata": {
        "colab": {
          "base_uri": "https://localhost:8080/"
        },
        "id": "uyjSS3cQVwFa",
        "outputId": "e3d644f8-2670-470b-ff7f-75c07a1ba808"
      },
      "source": [
        "import sqlite3\n",
        "\n",
        "#Retreive the Connection object\n",
        "myConnection = sqlite3.connect('social_network.db')\n",
        "\n",
        "#Once we have a Connection object, we can generate a Cursor object, and use that to run our SQL Queries\n",
        "myCursor = myConnection.cursor()\n",
        "\n",
        "#Let's define the SQL Query we will use to create our first table:\n",
        "createPeopleTable = \"\"\" CREATE TABLE IF NOT EXISTS people (\n",
        "                          id integer PRIMARY KEY,\n",
        "                          name text NOT NULL,\n",
        "                          email text NOT NULL,\n",
        "                          address text NOT NULL,\n",
        "                          city text NOT NULL,\n",
        "                          province text NOT NULL,\n",
        "                          country text NOT NULL,\n",
        "                          phone text,\n",
        "                          bio text,\n",
        "                          dob date NOT NULL,\n",
        "                          heatmap integer,\n",
        "                          created_at datetime NOT NULL,\n",
        "                          updated_at datetime NOT NULL,\n",
        "                          ipv4 text\n",
        "                        );\"\"\"\n",
        "\n",
        "#Now that we have the string to create our table,\n",
        "#Cursor objects have an execute() method which will accept an SQL string and perform the operations described.\n",
        "\n",
        "myCursor.execute(createPeopleTable)\n",
        "\n",
        "#We can confirm if our table was created successfully by running the following SQL Query\n",
        "#pragma_table_info is an internal SQLite function that will retun information about a table\n",
        "myCursor.execute(\"SELECT group_concat(name, ', ') FROM pragma_table_info('people')\")\n",
        "print(myCursor.fetchone())\n",
        "\n",
        "#We use to the commit() method on the database Connection object to persist our changes\n",
        "myConnection.commit()\n",
        "\n",
        "#It is always a good idea to close a connection when it will no longer be used\n",
        "myConnection.close()\n"
      ],
      "execution_count": 59,
      "outputs": [
        {
          "output_type": "stream",
          "name": "stdout",
          "text": [
            "('id, name, email, address, city, province, country, phone, bio, dob, heatmap, created_at, updated_at, ipv4',)\n"
          ]
        }
      ]
    },
    {
      "cell_type": "markdown",
      "metadata": {
        "id": "5swGTtjga2qo"
      },
      "source": [
        "\n",
        "If you received a tuple containing the names of the columns, awesome! We have successfully created our database table.\n",
        "```\n",
        "('id, name, email, address, city, province, country, phone, bio, created_at, updated_at',)\n",
        "```\n",
        "\n",
        "Run the below code block to add our first entry."
      ]
    },
    {
      "cell_type": "code",
      "metadata": {
        "id": "ZSPqve9na7b8",
        "outputId": "1966e77d-b5a9-4533-de47-8ccc6c41c88a",
        "colab": {
          "base_uri": "https://localhost:8080/"
        }
      },
      "source": [
        "import sqlite3\n",
        "from pprint import pprint #Outputs data in a slightly easier to read format\n",
        "from datetime import datetime #For generating dates and times\n",
        "\n",
        "#Retreive the Connection object\n",
        "myConnection = sqlite3.connect('social_network.db')\n",
        "\n",
        "#Once we have a Connection object, we can generate a Cursor object, and use that to run our SQL Queries\n",
        "myCursor = myConnection.cursor()\n",
        "\n",
        "#Let's define the SQL Query we will use to create our first entry:\n",
        "addPersonQuery = \"\"\"INSERT INTO people (name, \n",
        "                      email, \n",
        "                      address, \n",
        "                      city, \n",
        "                      province, \n",
        "                      country, \n",
        "                      phone, \n",
        "                      bio,\n",
        "                      dob,\n",
        "                      heatmap,\n",
        "                      created_at, \n",
        "                      updated_at, \n",
        "                      ipv4)\n",
        "                  VALUES (?, ?, ?, ?, ?, ?, ?, ?, ?, ?, ?, ?, ?);\"\"\"\n",
        "\n",
        "\"\"\"\n",
        "The ?'s are placeholders that we can fill in when we use the execute() method.\n",
        "This is really handy for code reuse, as we can pass those values are variables in a tuple\n",
        "Instead of hard coding them into the statement.\n",
        "\"\"\"\n",
        "\n",
        "myPerson = (\"John Doe\", \n",
        "            \"johndoe@anon.null\", \n",
        "            \"123 Fake St.\", \n",
        "            \"Fakesville\", \n",
        "            \"Fakesdom\", \n",
        "            \"Fakopolis\", \n",
        "            None, \n",
        "            None,\n",
        "            \"1967-09-12\",\n",
        "            0,\n",
        "            datetime.now(),\n",
        "            datetime.now(),\n",
        "            None)\n",
        "\n",
        "myCursor.execute(addPersonQuery, myPerson)\n",
        "\n",
        "#We can confirm if our table was created successfully by running the following SQL Query\n",
        "#pragma_table_info is an internal SQLite function that will retun information about a table\n",
        "myCursor.execute(\"SELECT * FROM people\")\n",
        "pprint(myCursor.fetchall())\n",
        "\n",
        "# If you run this code block a few times, you will see that you only have 1 entry,\n",
        "# If you uncomment the below lines and run the block a few more times, you will begin to see multiple entries.\n",
        "# myConnection.commit()\n",
        "# myConnection.close()"
      ],
      "execution_count": 60,
      "outputs": [
        {
          "output_type": "stream",
          "name": "stdout",
          "text": [
            "[(1,\n",
            "  'John Doe',\n",
            "  'johndoe@anon.null',\n",
            "  '123 Fake St.',\n",
            "  'Fakesville',\n",
            "  'Fakesdom',\n",
            "  'Fakopolis',\n",
            "  None,\n",
            "  None,\n",
            "  '1967-09-12',\n",
            "  0,\n",
            "  '2022-05-24 18:40:02.940338',\n",
            "  '2022-05-24 18:40:02.940352',\n",
            "  None)]\n"
          ]
        }
      ]
    },
    {
      "cell_type": "code",
      "metadata": {
        "id": "blL9pzRCgrMP"
      },
      "source": [
        ""
      ],
      "execution_count": null,
      "outputs": []
    },
    {
      "cell_type": "markdown",
      "metadata": {
        "id": "BTZ00Zscgrus"
      },
      "source": [
        "# Lab Submission"
      ]
    },
    {
      "cell_type": "markdown",
      "metadata": {
        "id": "rN93XC6xgvwP"
      },
      "source": [
        "We're going to build our experience with working with Libraries and examining documentation by populating our 'People' table with data provided to us by the `Faker` library. `Faker` is used to generate fake data and is very helpful for the rapid generation of databases for the purposes of testing. Run the two blocks below to install faker and get an idea of what it can do."
      ]
    },
    {
      "cell_type": "code",
      "metadata": {
        "id": "CejUXkoRhPik",
        "outputId": "79002bb8-1bf4-4a96-ba5a-ad7a9c33a9dd",
        "colab": {
          "base_uri": "https://localhost:8080/"
        }
      },
      "source": [
        "!pip install faker"
      ],
      "execution_count": 36,
      "outputs": [
        {
          "output_type": "stream",
          "name": "stdout",
          "text": [
            "Looking in indexes: https://pypi.org/simple, https://us-python.pkg.dev/colab-wheels/public/simple/\n",
            "Requirement already satisfied: faker in /usr/local/lib/python3.7/dist-packages (13.11.1)\n",
            "Requirement already satisfied: typing-extensions>=3.10.0.2 in /usr/local/lib/python3.7/dist-packages (from faker) (4.2.0)\n",
            "Requirement already satisfied: python-dateutil>=2.4 in /usr/local/lib/python3.7/dist-packages (from faker) (2.8.2)\n",
            "Requirement already satisfied: six>=1.5 in /usr/local/lib/python3.7/dist-packages (from python-dateutil>=2.4->faker) (1.15.0)\n"
          ]
        }
      ]
    },
    {
      "cell_type": "code",
      "metadata": {
        "id": "vO2Uhcwrhw8-",
        "outputId": "c231b604-dc9a-4812-87fc-ddb1f850f71b",
        "colab": {
          "base_uri": "https://localhost:8080/"
        }
      },
      "source": [
        "from faker import Faker\n",
        "\n",
        "fake = Faker()\n",
        "\n",
        "for _ in range(10):\n",
        "  print('{} || {}'.format( fake.name(), fake.job() ) )"
      ],
      "execution_count": 61,
      "outputs": [
        {
          "output_type": "stream",
          "name": "stdout",
          "text": [
            "Theresa Herman || Magazine journalist\n",
            "Mrs. Jennifer Chavez || Comptroller\n",
            "William Mccoy || Copywriter, advertising\n",
            "Ryan Obrien || Dentist\n",
            "Michael Stone || Set designer\n",
            "Jennifer Thornton || Financial adviser\n",
            "Anthony Garrison || Television camera operator\n",
            "Kristine Norton || Civil engineer, contracting\n",
            "Juan Abbott || Psychologist, prison and probation services\n",
            "Rebecca Gallagher || Broadcast journalist\n"
          ]
        }
      ]
    },
    {
      "cell_type": "markdown",
      "metadata": {
        "id": "IsYIsSvRjmiG"
      },
      "source": [
        "Very cool! Faker has tons of `providers` that can all be used to populate fake data. The [list of providers](https://faker.readthedocs.io/en/stable/providers.html) in the Faker documentation will help you fill out the columns for our People table.\n",
        "\n",
        "The goal of this script is to populate the people table with 1000 entries, with the following constraints:\n",
        "\n",
        "1. The `heatmap` column must contain a random number between `999` and `2500`\n",
        "2. The `created_at` and `updated_at` columns must use the `datetime` object (see examples above) \n",
        "2. Use `Faker` to generate all other fields.\n",
        "\n",
        "*Hint: Each of the methods contained in the provider can be called directly from the base Faker object, for example, one can call the `file_name()` method from `faker.providers.file` by calling `Faker().file_name()`*"
      ]
    },
    {
      "cell_type": "code",
      "metadata": {
        "id": "Yi-fE0uUlor4",
        "outputId": "0c4b142f-5b4a-4779-990f-8d3fcf51f544",
        "colab": {
          "base_uri": "https://localhost:8080/"
        }
      },
      "source": [
        "import sqlite3\n",
        "from faker import Faker\n",
        "from datetime import datetime #For generating dates and times\n",
        "from pprint import pprint\n",
        "#Don't forget to import the module to generate random numbers!\n",
        "\n",
        "#Retreive the Connection object\n",
        "myConnection = sqlite3.connect('social_network.db')\n",
        "\n",
        "#Once we have a Connection object, we can generate a Cursor object, and use that to run our SQL Queries\n",
        "myCursor = myConnection.cursor()\n",
        "\n",
        "#This is the same syntax as the above example:\n",
        "addPersonQuery = \"\"\"INSERT INTO people (name, \n",
        "                      email, \n",
        "                      address, \n",
        "                      city, \n",
        "                      province, \n",
        "                      country, \n",
        "                      phone, \n",
        "                      bio,\n",
        "                      dob,\n",
        "                      heatmap,\n",
        "                      created_at, \n",
        "                      updated_at, \n",
        "                      ipv4)\n",
        "                  VALUES (?, ?, ?, ?, ?, ?, ?, ?, ?, ?, ?, ?, ?);\"\"\"\n",
        "\n",
        "fake = Faker(\"en_CA\")\n",
        "\n",
        "for _ in range(1000):\n",
        "  myPerson = (fake.name(), \n",
        "            fake.ascii_free_email(), \n",
        "            fake.street_address(), \n",
        "            fake.city(), \n",
        "            fake.administrative_unit(), \n",
        "            fake.country(), \n",
        "            fake.phone_number(), \n",
        "            fake.sentence(nb_words=5),\n",
        "            fake.date_of_birth(),\n",
        "            fake.random_int(min=999, max = 2500),\n",
        "            datetime.now(), \n",
        "            datetime.now(),\n",
        "            fake.ipv4())\n",
        "  myCursor.execute(addPersonQuery, myPerson)\n",
        "\n",
        "myCursor.execute(\"SELECT * FROM people LIMIT 10\")\n",
        "pprint(myCursor.fetchall())\n",
        "\n",
        "myConnection.commit()\n",
        "myConnection.close()\n",
        "\n",
        "#Ideally, you will want to create a loop that will iterate 1000 times,\n",
        "#Observe the example in the earlier code block showing the parameter tuple `myPerson`\n",
        "#You can duplicate that inside your loop and replace those fields with calls to the appropriate faker provider method\n",
        "#Execute your statement inside the loop,\n",
        "#But, don't forget to commit and close your connection when you have finished!"
      ],
      "execution_count": 63,
      "outputs": [
        {
          "output_type": "stream",
          "name": "stdout",
          "text": [
            "[(1,\n",
            "  'Manuel Robinson',\n",
            "  'yowen@gmail.com',\n",
            "  '21446 Steele Throughway Suite 263',\n",
            "  'Gregoryport',\n",
            "  'Saskatchewan',\n",
            "  'Suriname',\n",
            "  '613-582-0368 x373',\n",
            "  'Error pariatur culpa neque.',\n",
            "  '1925-03-26',\n",
            "  1967,\n",
            "  '2022-05-24 18:40:51.031084',\n",
            "  '2022-05-24 18:40:51.031086',\n",
            "  '205.49.150.104'),\n",
            " (2,\n",
            "  'Nicholas Trujillo',\n",
            "  'jacksonmatthew@gmail.com',\n",
            "  '391 John Villages',\n",
            "  'Fernandeztown',\n",
            "  'Newfoundland and Labrador',\n",
            "  'Zambia',\n",
            "  '(259) 897-1560',\n",
            "  'Cupiditate eligendi vel reiciendis et voluptas.',\n",
            "  '2006-05-06',\n",
            "  2122,\n",
            "  '2022-05-24 18:40:51.046691',\n",
            "  '2022-05-24 18:40:51.046693',\n",
            "  '201.50.14.82'),\n",
            " (3,\n",
            "  'Veronica Hicks',\n",
            "  'ngomez@yahoo.com',\n",
            "  '6792 Stephen Alley Apt. 822',\n",
            "  'Kellerville',\n",
            "  'Saskatchewan',\n",
            "  'Kenya',\n",
            "  '+1 (262) 110-1787',\n",
            "  'Dolores vero necessitatibus cumque necessitatibus.',\n",
            "  '1971-06-30',\n",
            "  1482,\n",
            "  '2022-05-24 18:40:51.047654',\n",
            "  '2022-05-24 18:40:51.047655',\n",
            "  '109.73.28.193'),\n",
            " (4,\n",
            "  'Jacob Duncan',\n",
            "  'kathleenedwards@yahoo.com',\n",
            "  '811 Mitchell Centers Apt. 338',\n",
            "  'Jackieberg',\n",
            "  'Nunavut',\n",
            "  'Papua New Guinea',\n",
            "  '504.401.5846',\n",
            "  'Odit modi itaque quod eligendi non.',\n",
            "  '1943-03-21',\n",
            "  1179,\n",
            "  '2022-05-24 18:40:51.048492',\n",
            "  '2022-05-24 18:40:51.048493',\n",
            "  '135.35.204.118'),\n",
            " (5,\n",
            "  'Michael Floyd',\n",
            "  'bryantangelica@yahoo.com',\n",
            "  '5594 Sanchez Crest Suite 029',\n",
            "  'New Jasonburgh',\n",
            "  'Newfoundland and Labrador',\n",
            "  'Kuwait',\n",
            "  '166-562-1676',\n",
            "  'Error nihil aliquam.',\n",
            "  '1939-01-10',\n",
            "  1509,\n",
            "  '2022-05-24 18:40:51.049360',\n",
            "  '2022-05-24 18:40:51.049362',\n",
            "  '63.127.252.247'),\n",
            " (6,\n",
            "  'Michaela Wilson',\n",
            "  'kaufmannancy@yahoo.com',\n",
            "  '843 Christine Unions Suite 830',\n",
            "  'South Valeriemouth',\n",
            "  'Alberta',\n",
            "  'Hong Kong',\n",
            "  '(632) 742-7408 x749',\n",
            "  'Sapiente consequatur perferendis molestiae iure rerum.',\n",
            "  '1999-05-02',\n",
            "  2349,\n",
            "  '2022-05-24 18:40:51.050112',\n",
            "  '2022-05-24 18:40:51.050114',\n",
            "  '151.131.50.76'),\n",
            " (7,\n",
            "  'Amanda Parker',\n",
            "  'williamskaren@gmail.com',\n",
            "  '33061 Bernard Bridge Apt. 069',\n",
            "  'Williamshaven',\n",
            "  'Nunavut',\n",
            "  'Malaysia',\n",
            "  '942-624-6126 x721',\n",
            "  'Ducimus consectetur exercitationem.',\n",
            "  '2012-12-22',\n",
            "  2458,\n",
            "  '2022-05-24 18:40:51.050859',\n",
            "  '2022-05-24 18:40:51.050860',\n",
            "  '18.70.145.130'),\n",
            " (8,\n",
            "  'Rebecca Bell',\n",
            "  'nguerrero@gmail.com',\n",
            "  '6925 Aguilar Shoal Apt. 086',\n",
            "  'Kimton',\n",
            "  'Newfoundland and Labrador',\n",
            "  'Mongolia',\n",
            "  '(624) 171-7038',\n",
            "  'Veritatis non blanditiis saepe.',\n",
            "  '1994-05-27',\n",
            "  2166,\n",
            "  '2022-05-24 18:40:51.051558',\n",
            "  '2022-05-24 18:40:51.051559',\n",
            "  '161.100.91.217'),\n",
            " (9,\n",
            "  'Crystal Nguyen MD',\n",
            "  'juarezjason@yahoo.com',\n",
            "  '292 Best Lights Suite 819',\n",
            "  'Adamchester',\n",
            "  'Nova Scotia',\n",
            "  'Colombia',\n",
            "  '(229) 492-9182 x199',\n",
            "  'Corporis doloremque laudantium adipisci.',\n",
            "  '2013-01-19',\n",
            "  1402,\n",
            "  '2022-05-24 18:40:51.052324',\n",
            "  '2022-05-24 18:40:51.052325',\n",
            "  '23.143.184.50'),\n",
            " (10,\n",
            "  'Rebekah Hernandez',\n",
            "  'zmartinez@hotmail.com',\n",
            "  '551 Vance Mall',\n",
            "  'Lake Veronicafort',\n",
            "  'Ontario',\n",
            "  'Hungary',\n",
            "  '1-807-720-2159',\n",
            "  'Neque deleniti recusandae dolores ipsum.',\n",
            "  '1974-12-02',\n",
            "  2413,\n",
            "  '2022-05-24 18:40:51.052980',\n",
            "  '2022-05-24 18:40:51.052981',\n",
            "  '23.20.181.209')]\n"
          ]
        }
      ]
    },
    {
      "cell_type": "markdown",
      "metadata": {
        "id": "mVEgfYArnITl"
      },
      "source": [
        "Finally, the last step,\n",
        "Using the code block below, combined with what you have learned above, and the Lecture notes,\n",
        "Craft a SQL Query that will return the `name` of no more than `20` `people` with a `heatmap` greater than `1500`"
      ]
    },
    {
      "cell_type": "code",
      "metadata": {
        "id": "oN6wSS9roOP6",
        "outputId": "ad814f49-abf5-4f27-c3cd-1a8df1f3fadc",
        "colab": {
          "base_uri": "https://localhost:8080/"
        }
      },
      "source": [
        "import sqlite3\n",
        "from pprint import pprint\n",
        "#Retreive the Connection object\n",
        "myConnection = sqlite3.connect('social_network.db')\n",
        "\n",
        "#Once we have a Connection object, we can generate a Cursor object, and use that to run our SQL Queries\n",
        "myCursor = myConnection.cursor()\n",
        "\n",
        "selectStatement = \"\"\" SELECT name, heatmap from people WHERE heatmap > 1500 LIMIT 20\"\"\"\n",
        "\n",
        "myCursor.execute( selectStatement)\n",
        "results = myCursor.fetchall()\n",
        "pprint(results)"
      ],
      "execution_count": 64,
      "outputs": [
        {
          "output_type": "stream",
          "name": "stdout",
          "text": [
            "[('Manuel Robinson', 1967),\n",
            " ('Nicholas Trujillo', 2122),\n",
            " ('Michael Floyd', 1509),\n",
            " ('Michaela Wilson', 2349),\n",
            " ('Amanda Parker', 2458),\n",
            " ('Rebecca Bell', 2166),\n",
            " ('Rebekah Hernandez', 2413),\n",
            " ('Susan Green', 1503),\n",
            " ('Michelle Sanders', 2414),\n",
            " ('Timothy Edwards', 1799),\n",
            " ('Melissa Yoder', 2298),\n",
            " ('David Burns', 2273),\n",
            " ('Anna Martin', 1915),\n",
            " ('Mr. Brandon Rose MD', 2372),\n",
            " ('Michael Melton', 1806),\n",
            " ('Ryan Jackson', 2175),\n",
            " ('Selena Weiss', 1907),\n",
            " ('Brenda Porter', 1850),\n",
            " ('Karl Moreno', 1880),\n",
            " ('Joshua Delgado', 1645)]\n"
          ]
        }
      ]
    },
    {
      "cell_type": "markdown",
      "metadata": {
        "id": "qwNrP7FfpJg2"
      },
      "source": [
        "Your submission will contain, as usual, a link to your completed colab notebook, but in addition to that, you will download a copy of your social_network.db file and upload it to D2L. To download the file, right click it from the Files menu on the left of the Notebook."
      ]
    }
  ]
}